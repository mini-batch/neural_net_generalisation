{
 "cells": [
  {
   "cell_type": "code",
   "execution_count": 7,
   "metadata": {},
   "outputs": [
    {
     "ename": "SyntaxError",
     "evalue": "invalid syntax (1515834065.py, line 1)",
     "output_type": "error",
     "traceback": [
      "\u001b[1;36m  Cell \u001b[1;32mIn[7], line 1\u001b[1;36m\u001b[0m\n\u001b[1;33m    from nn_generalisation import neural_net, data.data_utils\u001b[0m\n\u001b[1;37m                                                  ^\u001b[0m\n\u001b[1;31mSyntaxError\u001b[0m\u001b[1;31m:\u001b[0m invalid syntax\n"
     ]
    }
   ],
   "source": [
    "from nn_generalisation import neural_net\n",
    "import torch\n",
    "from torch.utils.data import DataLoader"
   ]
  },
  {
   "cell_type": "code",
   "execution_count": null,
   "metadata": {},
   "outputs": [],
   "source": [
    "def train(model : neural_net.DenseNN,\n",
    "          train_loader : DataLoader,\n",
    "          optimizer : torch.optim.SGD,\n",
    "          loss_fn : torch.nn.modules.loss._Loss | torch.nn.modules.loss._WeightedLoss,\n",
    "          args : dict) -> float:\n",
    "    model.train()\n",
    "    epoch_loss = 0\n",
    "    for batch_idx, (data, target) in enumerate(train_loader):\n",
    "        if not args[\"pre_transfer\"]:\n",
    "            data, target = data.to(args[\"device\"]), target.to(args[\"device\"])\n",
    "        optimizer.zero_grad()\n",
    "        output = model(data)\n",
    "        loss = loss_fn(output, target) / len(data)\n",
    "        epoch_loss += loss * len(data)\n",
    "        loss.backward()\n",
    "        grads = torch.Tensor([-optimizer.lr * p.grad for p in model.parameters()], device=args[\"device\"])\n",
    "        optimizer.step()\n",
    "    return epoch_loss.item() / len(train_loader.dataset), grads\n",
    "\n",
    "def get_landscape_metrics(model : neural_net.DenseNN,\n",
    "        test_loader : DataLoader,\n",
    "        loss_fn : torch.nn.modules.loss._Loss | torch.nn.modules.loss._WeightedLoss,\n",
    "        args : dict,\n",
    "        v : torch.Tensor) -> float:\n",
    "    model.eval()\n",
    "    test_loss = 0\n",
    "    for data, target in test_loader:\n",
    "        if not args[\"pre_transfer\"]:\n",
    "            data, target = data.to(args[\"device\"]), target.to(args[\"device\"])\n",
    "        output = model(data)\n",
    "        test_loss += loss_fn(output, target) / len(data)\n",
    "    test_loss.backward(create_graph=True)\n",
    "    grad_params = torch.cat([p.grad.view(-1) for p in model.parameters()])\n",
    "    hv_product = torch.autograd.grad(grad_params, model.parameters(), grad_outputs=v, retain_graph=True)\n",
    "    return test_loss.item()"
   ]
  },
  {
   "cell_type": "code",
   "execution_count": null,
   "metadata": {},
   "outputs": [],
   "source": []
  }
 ],
 "metadata": {
  "kernelspec": {
   "display_name": "double_descent",
   "language": "python",
   "name": "python3"
  },
  "language_info": {
   "codemirror_mode": {
    "name": "ipython",
    "version": 3
   },
   "file_extension": ".py",
   "mimetype": "text/x-python",
   "name": "python",
   "nbconvert_exporter": "python",
   "pygments_lexer": "ipython3",
   "version": "3.10.10"
  },
  "orig_nbformat": 4
 },
 "nbformat": 4,
 "nbformat_minor": 2
}
