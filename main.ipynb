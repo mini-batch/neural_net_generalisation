{
 "cells": [
  {
   "cell_type": "code",
   "execution_count": 1,
   "metadata": {},
   "outputs": [],
   "source": [
    "from src.nn_generalisation.experiment import Experiment\n",
    "from experiment_args import experiment_args\n",
    "import matplotlib.pyplot as plt\n",
    "from src.nn_generalisation.landscape_analysis.slope import get_jacobian, plot_grad\n",
    "from src.nn_generalisation.landscape_analysis.curvature import get_hessian_avg\n",
    "from src.nn_generalisation.logging.models import load_model\n",
    "import torch\n",
    "import numpy as np"
   ]
  },
  {
   "cell_type": "code",
   "execution_count": 2,
   "metadata": {},
   "outputs": [],
   "source": [
    "exp = Experiment(experiment_args)"
   ]
  },
  {
   "cell_type": "code",
   "execution_count": 4,
   "metadata": {},
   "outputs": [
    {
     "name": "stderr",
     "output_type": "stream",
     "text": [
      "Model with 10 hidden units training progress:  20%|██        | 1/5 [00:05<00:21,  5.37s/it]\n",
      "Experiment Progress:   0%|          | 0/2 [00:05<?, ?it/s]\n"
     ]
    },
    {
     "ename": "KeyboardInterrupt",
     "evalue": "",
     "output_type": "error",
     "traceback": [
      "\u001b[0;31m---------------------------------------------------------------------------\u001b[0m",
      "\u001b[0;31mKeyboardInterrupt\u001b[0m                         Traceback (most recent call last)",
      "Cell \u001b[0;32mIn[4], line 1\u001b[0m\n\u001b[0;32m----> 1\u001b[0m exp\u001b[39m.\u001b[39;49mrun()\n",
      "File \u001b[0;32m~/Documents/Projects/University/disseration/nn_analysis/src/nn_generalisation/experiment.py:39\u001b[0m, in \u001b[0;36mExperiment.run\u001b[0;34m(self)\u001b[0m\n\u001b[1;32m     37\u001b[0m         run_with_param_reuse(model, \u001b[39mself\u001b[39m)\n\u001b[1;32m     38\u001b[0m     \u001b[39melse\u001b[39;00m:\n\u001b[0;32m---> 39\u001b[0m         run_without_param_reuse(model, \u001b[39mself\u001b[39;49m)\n\u001b[1;32m     40\u001b[0m \u001b[39mself\u001b[39m\u001b[39m.\u001b[39margs\u001b[39m.\u001b[39mpop(\u001b[39m\"\u001b[39m\u001b[39mdevice\u001b[39m\u001b[39m\"\u001b[39m)\n\u001b[1;32m     41\u001b[0m \u001b[39mreturn\u001b[39;00m save_json(\u001b[39mself\u001b[39m\u001b[39m.\u001b[39mexperiment_log, \u001b[39mf\u001b[39m\u001b[39m\"\u001b[39m\u001b[39m{\u001b[39;00m\u001b[39mself\u001b[39m\u001b[39m.\u001b[39mlog_path\u001b[39m \u001b[39m\u001b[39m+\u001b[39m\u001b[39m \u001b[39m\u001b[39m'\u001b[39m\u001b[39mexperiment_log\u001b[39m\u001b[39m'\u001b[39m\u001b[39m}\u001b[39;00m\u001b[39m.json\u001b[39m\u001b[39m\"\u001b[39m)\n",
      "File \u001b[0;32m~/Documents/Projects/University/disseration/nn_analysis/src/nn_generalisation/utils.py:64\u001b[0m, in \u001b[0;36mrun_without_param_reuse\u001b[0;34m(model, exp)\u001b[0m\n\u001b[1;32m     56\u001b[0m \u001b[39mdef\u001b[39;00m \u001b[39mrun_without_param_reuse\u001b[39m(model : DenseNN,\n\u001b[1;32m     57\u001b[0m                             exp : \u001b[39m'\u001b[39m\u001b[39mExperiment\u001b[39m\u001b[39m'\u001b[39m) \u001b[39m-\u001b[39m\u001b[39m>\u001b[39m \u001b[39mNone\u001b[39;00m:\n\u001b[1;32m     58\u001b[0m \u001b[39m    \u001b[39m\u001b[39m\"\"\"\u001b[39;00m\n\u001b[1;32m     59\u001b[0m \u001b[39m    Given a model and experiment, initialise the model randomly and run training.\u001b[39;00m\n\u001b[1;32m     60\u001b[0m \u001b[39m    params:\u001b[39;00m\n\u001b[1;32m     61\u001b[0m \u001b[39m        model: (DenseNN)\u001b[39;00m\n\u001b[1;32m     62\u001b[0m \u001b[39m        exp: (Experiment)\u001b[39;00m\n\u001b[1;32m     63\u001b[0m \u001b[39m    \"\"\"\u001b[39;00m\n\u001b[0;32m---> 64\u001b[0m     exp\u001b[39m.\u001b[39mexperiment_log[\u001b[39mf\u001b[39m\u001b[39m\"\u001b[39m\u001b[39mmodel_\u001b[39m\u001b[39m{\u001b[39;00mmodel\u001b[39m.\u001b[39mnum_hidden_units\u001b[39m}\u001b[39;00m\u001b[39m\"\u001b[39m] \u001b[39m=\u001b[39m train_model(model, exp\u001b[39m.\u001b[39;49mtrain_loader, exp\u001b[39m.\u001b[39;49mtest_loader, exp\u001b[39m.\u001b[39;49margs, exp\u001b[39m.\u001b[39;49mlog_path)\n",
      "File \u001b[0;32m~/Documents/Projects/University/disseration/nn_analysis/src/nn_generalisation/utils.py:28\u001b[0m, in \u001b[0;36mtrain_model\u001b[0;34m(model, train_loader, test_loader, args, log_path)\u001b[0m\n\u001b[1;32m     26\u001b[0m optimizer \u001b[39m=\u001b[39m optim\u001b[39m.\u001b[39mSGD(model\u001b[39m.\u001b[39mparameters(), lr\u001b[39m=\u001b[39margs[\u001b[39m\"\u001b[39m\u001b[39mlr\u001b[39m\u001b[39m\"\u001b[39m], momentum\u001b[39m=\u001b[39margs[\u001b[39m\"\u001b[39m\u001b[39mmomentum\u001b[39m\u001b[39m\"\u001b[39m])\n\u001b[1;32m     27\u001b[0m \u001b[39mfor\u001b[39;00m epoch \u001b[39min\u001b[39;00m trange(args[\u001b[39m\"\u001b[39m\u001b[39mepochs\u001b[39m\u001b[39m\"\u001b[39m], desc\u001b[39m=\u001b[39m\u001b[39mf\u001b[39m\u001b[39m\"\u001b[39m\u001b[39mModel with \u001b[39m\u001b[39m{\u001b[39;00mmodel\u001b[39m.\u001b[39mnum_hidden_units\u001b[39m}\u001b[39;00m\u001b[39m hidden units training progress\u001b[39m\u001b[39m\"\u001b[39m):\n\u001b[0;32m---> 28\u001b[0m     train_loss \u001b[39m=\u001b[39m train(model, train_loader, optimizer, args)\n\u001b[1;32m     29\u001b[0m     test_loss \u001b[39m=\u001b[39m test(model, test_loader, args)\n\u001b[1;32m     30\u001b[0m     train_losses\u001b[39m.\u001b[39mappend(train_loss)\n",
      "File \u001b[0;32m~/Documents/Projects/University/disseration/nn_analysis/src/nn_generalisation/neural_net/train.py:20\u001b[0m, in \u001b[0;36mtrain\u001b[0;34m(model, train_loader, optimizer, args)\u001b[0m\n\u001b[1;32m     18\u001b[0m     loss \u001b[39m=\u001b[39m F\u001b[39m.\u001b[39mmse_loss(output, target, reduction\u001b[39m=\u001b[39m\u001b[39m\"\u001b[39m\u001b[39msum\u001b[39m\u001b[39m\"\u001b[39m) \u001b[39m/\u001b[39m \u001b[39mlen\u001b[39m(data)\n\u001b[1;32m     19\u001b[0m     epoch_loss \u001b[39m+\u001b[39m\u001b[39m=\u001b[39m F\u001b[39m.\u001b[39mmse_loss(output, target, reduction\u001b[39m=\u001b[39m\u001b[39m\"\u001b[39m\u001b[39msum\u001b[39m\u001b[39m\"\u001b[39m)\n\u001b[0;32m---> 20\u001b[0m     loss\u001b[39m.\u001b[39;49mbackward()\n\u001b[1;32m     21\u001b[0m     optimizer\u001b[39m.\u001b[39mstep()\n\u001b[1;32m     22\u001b[0m \u001b[39mreturn\u001b[39;00m epoch_loss\u001b[39m.\u001b[39mitem() \u001b[39m/\u001b[39m \u001b[39mlen\u001b[39m(train_loader\u001b[39m.\u001b[39mdataset)\n",
      "File \u001b[0;32m/opt/miniconda3/envs/double_descent/lib/python3.10/site-packages/torch/_tensor.py:487\u001b[0m, in \u001b[0;36mTensor.backward\u001b[0;34m(self, gradient, retain_graph, create_graph, inputs)\u001b[0m\n\u001b[1;32m    477\u001b[0m \u001b[39mif\u001b[39;00m has_torch_function_unary(\u001b[39mself\u001b[39m):\n\u001b[1;32m    478\u001b[0m     \u001b[39mreturn\u001b[39;00m handle_torch_function(\n\u001b[1;32m    479\u001b[0m         Tensor\u001b[39m.\u001b[39mbackward,\n\u001b[1;32m    480\u001b[0m         (\u001b[39mself\u001b[39m,),\n\u001b[0;32m   (...)\u001b[0m\n\u001b[1;32m    485\u001b[0m         inputs\u001b[39m=\u001b[39minputs,\n\u001b[1;32m    486\u001b[0m     )\n\u001b[0;32m--> 487\u001b[0m torch\u001b[39m.\u001b[39;49mautograd\u001b[39m.\u001b[39;49mbackward(\n\u001b[1;32m    488\u001b[0m     \u001b[39mself\u001b[39;49m, gradient, retain_graph, create_graph, inputs\u001b[39m=\u001b[39;49minputs\n\u001b[1;32m    489\u001b[0m )\n",
      "File \u001b[0;32m/opt/miniconda3/envs/double_descent/lib/python3.10/site-packages/torch/autograd/__init__.py:200\u001b[0m, in \u001b[0;36mbackward\u001b[0;34m(tensors, grad_tensors, retain_graph, create_graph, grad_variables, inputs)\u001b[0m\n\u001b[1;32m    195\u001b[0m     retain_graph \u001b[39m=\u001b[39m create_graph\n\u001b[1;32m    197\u001b[0m \u001b[39m# The reason we repeat same the comment below is that\u001b[39;00m\n\u001b[1;32m    198\u001b[0m \u001b[39m# some Python versions print out the first line of a multi-line function\u001b[39;00m\n\u001b[1;32m    199\u001b[0m \u001b[39m# calls in the traceback and some print out the last line\u001b[39;00m\n\u001b[0;32m--> 200\u001b[0m Variable\u001b[39m.\u001b[39;49m_execution_engine\u001b[39m.\u001b[39;49mrun_backward(  \u001b[39m# Calls into the C++ engine to run the backward pass\u001b[39;49;00m\n\u001b[1;32m    201\u001b[0m     tensors, grad_tensors_, retain_graph, create_graph, inputs,\n\u001b[1;32m    202\u001b[0m     allow_unreachable\u001b[39m=\u001b[39;49m\u001b[39mTrue\u001b[39;49;00m, accumulate_grad\u001b[39m=\u001b[39;49m\u001b[39mTrue\u001b[39;49;00m)\n",
      "\u001b[0;31mKeyboardInterrupt\u001b[0m: "
     ]
    }
   ],
   "source": [
    "exp.run()"
   ]
  },
  {
   "cell_type": "code",
   "execution_count": 3,
   "metadata": {},
   "outputs": [
    {
     "name": "stderr",
     "output_type": "stream",
     "text": [
      "Calculate second derivative:   0%|          | 1/7960 [00:02<5:24:45,  2.45s/it]"
     ]
    },
    {
     "name": "stdout",
     "output_type": "stream",
     "text": [
      "0.0\n"
     ]
    },
    {
     "name": "stderr",
     "output_type": "stream",
     "text": [
      "Calculate second derivative:   0%|          | 2/7960 [00:04<5:28:49,  2.48s/it]"
     ]
    },
    {
     "name": "stdout",
     "output_type": "stream",
     "text": [
      "0.0\n"
     ]
    },
    {
     "name": "stderr",
     "output_type": "stream",
     "text": [
      "Calculate second derivative:   0%|          | 3/7960 [00:07<5:31:00,  2.50s/it]"
     ]
    },
    {
     "name": "stdout",
     "output_type": "stream",
     "text": [
      "0.00030026896274648607\n"
     ]
    },
    {
     "name": "stderr",
     "output_type": "stream",
     "text": [
      "Calculate second derivative:   0%|          | 4/7960 [00:09<5:32:43,  2.51s/it]"
     ]
    },
    {
     "name": "stdout",
     "output_type": "stream",
     "text": [
      "0.00030100346998551686\n"
     ]
    },
    {
     "name": "stderr",
     "output_type": "stream",
     "text": [
      "Calculate second derivative:   0%|          | 5/7960 [00:12<5:34:23,  2.52s/it]"
     ]
    },
    {
     "name": "stdout",
     "output_type": "stream",
     "text": [
      "0.00030100346998551686\n"
     ]
    },
    {
     "name": "stderr",
     "output_type": "stream",
     "text": [
      "Calculate second derivative:   0%|          | 6/7960 [00:15<5:33:33,  2.52s/it]"
     ]
    },
    {
     "name": "stdout",
     "output_type": "stream",
     "text": [
      "0.0012255394969997724\n"
     ]
    },
    {
     "name": "stderr",
     "output_type": "stream",
     "text": [
      "Calculate second derivative:   0%|          | 7/7960 [00:17<5:33:36,  2.52s/it]"
     ]
    },
    {
     "name": "stdout",
     "output_type": "stream",
     "text": [
      "0.0012255394969997724\n"
     ]
    },
    {
     "name": "stderr",
     "output_type": "stream",
     "text": [
      "Calculate second derivative:   0%|          | 8/7960 [00:20<5:33:02,  2.51s/it]"
     ]
    },
    {
     "name": "stdout",
     "output_type": "stream",
     "text": [
      "0.0012255394969997724\n"
     ]
    },
    {
     "name": "stderr",
     "output_type": "stream",
     "text": [
      "Calculate second derivative:   0%|          | 9/7960 [00:22<5:33:08,  2.51s/it]"
     ]
    },
    {
     "name": "stdout",
     "output_type": "stream",
     "text": [
      "0.0012255394969997724\n"
     ]
    },
    {
     "name": "stderr",
     "output_type": "stream",
     "text": [
      "Calculate second derivative:   0%|          | 10/7960 [00:25<5:32:31,  2.51s/it]"
     ]
    },
    {
     "name": "stdout",
     "output_type": "stream",
     "text": [
      "0.0012255394969997724\n"
     ]
    },
    {
     "name": "stderr",
     "output_type": "stream",
     "text": [
      "Calculate second derivative:   0%|          | 11/7960 [00:27<5:35:06,  2.53s/it]"
     ]
    },
    {
     "name": "stdout",
     "output_type": "stream",
     "text": [
      "0.0012255394969997724\n"
     ]
    },
    {
     "name": "stderr",
     "output_type": "stream",
     "text": [
      "Calculate second derivative:   0%|          | 11/7960 [00:30<6:04:11,  2.75s/it]\n"
     ]
    },
    {
     "ename": "KeyboardInterrupt",
     "evalue": "",
     "output_type": "error",
     "traceback": [
      "\u001b[0;31m---------------------------------------------------------------------------\u001b[0m",
      "\u001b[0;31mKeyboardInterrupt\u001b[0m                         Traceback (most recent call last)",
      "Cell \u001b[0;32mIn[3], line 3\u001b[0m\n\u001b[1;32m      1\u001b[0m model \u001b[39m=\u001b[39m load_model(\u001b[39m10\u001b[39m, \u001b[39m\"\u001b[39m\u001b[39m./log/2023-07-11_11;36;18/model_size_10_final.pt\u001b[39m\u001b[39m\"\u001b[39m)\n\u001b[1;32m      2\u001b[0m \u001b[39m#jacobian = get_jacobian(model, exp)\u001b[39;00m\n\u001b[0;32m----> 3\u001b[0m hessian_avg \u001b[39m=\u001b[39m get_hessian_avg(model, exp)\n",
      "File \u001b[0;32m~/Documents/Projects/University/disseration/nn_analysis/src/nn_generalisation/landscape_analysis/curvature.py:16\u001b[0m, in \u001b[0;36mget_hessian_avg\u001b[0;34m(model, exp)\u001b[0m\n\u001b[1;32m     14\u001b[0m avg \u001b[39m=\u001b[39m \u001b[39m0\u001b[39m\n\u001b[1;32m     15\u001b[0m \u001b[39mfor\u001b[39;00m i \u001b[39min\u001b[39;00m trange(num_params, desc\u001b[39m=\u001b[39m\u001b[39m\"\u001b[39m\u001b[39mCalculate second derivative\u001b[39m\u001b[39m\"\u001b[39m):\n\u001b[0;32m---> 16\u001b[0m     curvature_i \u001b[39m=\u001b[39m cat_and_flatten(torch\u001b[39m.\u001b[39;49mautograd\u001b[39m.\u001b[39;49mgrad(jacobian[\u001b[39m7900\u001b[39;49m \u001b[39m+\u001b[39;49m i], params, retain_graph\u001b[39m=\u001b[39;49m\u001b[39mTrue\u001b[39;49;00m))\n\u001b[1;32m     17\u001b[0m     avg \u001b[39m+\u001b[39m\u001b[39m=\u001b[39m torch\u001b[39m.\u001b[39mmean(torch\u001b[39m.\u001b[39mabs(curvature_i))\u001b[39m.\u001b[39mitem()\n\u001b[1;32m     18\u001b[0m     \u001b[39mprint\u001b[39m(avg)\n",
      "File \u001b[0;32m/opt/miniconda3/envs/double_descent/lib/python3.10/site-packages/torch/autograd/__init__.py:303\u001b[0m, in \u001b[0;36mgrad\u001b[0;34m(outputs, inputs, grad_outputs, retain_graph, create_graph, only_inputs, allow_unused, is_grads_batched)\u001b[0m\n\u001b[1;32m    301\u001b[0m     \u001b[39mreturn\u001b[39;00m _vmap_internals\u001b[39m.\u001b[39m_vmap(vjp, \u001b[39m0\u001b[39m, \u001b[39m0\u001b[39m, allow_none_pass_through\u001b[39m=\u001b[39m\u001b[39mTrue\u001b[39;00m)(grad_outputs_)\n\u001b[1;32m    302\u001b[0m \u001b[39melse\u001b[39;00m:\n\u001b[0;32m--> 303\u001b[0m     \u001b[39mreturn\u001b[39;00m Variable\u001b[39m.\u001b[39;49m_execution_engine\u001b[39m.\u001b[39;49mrun_backward(  \u001b[39m# Calls into the C++ engine to run the backward pass\u001b[39;49;00m\n\u001b[1;32m    304\u001b[0m         t_outputs, grad_outputs_, retain_graph, create_graph, t_inputs,\n\u001b[1;32m    305\u001b[0m         allow_unused, accumulate_grad\u001b[39m=\u001b[39;49m\u001b[39mFalse\u001b[39;49;00m)\n",
      "\u001b[0;31mKeyboardInterrupt\u001b[0m: "
     ]
    }
   ],
   "source": [
    "model = load_model(10, \"./log/2023-07-11_11;36;18/model_size_10_final.pt\")\n",
    "#jacobian = get_jacobian(model, exp)\n",
    "hessian_avg = get_hessian_avg(model, exp)\n",
    "#flat_jacob = torch.cat([torch.flatten(i) for i in jacobian])\n",
    "#jacob = flat_jacob.numpy(force=True)\n",
    "#plot_grad(flat_jacob.numpy(force=True), 1000)"
   ]
  },
  {
   "cell_type": "code",
   "execution_count": 4,
   "metadata": {},
   "outputs": [
    {
     "name": "stdout",
     "output_type": "stream",
     "text": [
      "0.0\n"
     ]
    }
   ],
   "source": [
    "print(hessian_avg)"
   ]
  },
  {
   "cell_type": "code",
   "execution_count": null,
   "metadata": {},
   "outputs": [],
   "source": [
    "plot_grad(hessian_avg, )"
   ]
  },
  {
   "cell_type": "code",
   "execution_count": 25,
   "metadata": {},
   "outputs": [
    {
     "data": {
      "text/plain": [
       "0.00085613306"
      ]
     },
     "execution_count": 25,
     "metadata": {},
     "output_type": "execute_result"
    }
   ],
   "source": [
    "np.mean(np.abs(jacob))"
   ]
  },
  {
   "cell_type": "code",
   "execution_count": 4,
   "metadata": {},
   "outputs": [
    {
     "name": "stderr",
     "output_type": "stream",
     "text": [
      "Calculate second derivative:   0%|          | 1/43735 [00:02<34:47:48,  2.86s/it]"
     ]
    },
    {
     "name": "stdout",
     "output_type": "stream",
     "text": [
      "0.0\n"
     ]
    },
    {
     "name": "stderr",
     "output_type": "stream",
     "text": [
      "Calculate second derivative:   0%|          | 2/43735 [00:05<34:59:09,  2.88s/it]"
     ]
    },
    {
     "name": "stdout",
     "output_type": "stream",
     "text": [
      "3.728398496605223e-07\n"
     ]
    },
    {
     "name": "stderr",
     "output_type": "stream",
     "text": [
      "Calculate second derivative:   0%|          | 3/43735 [00:08<35:11:21,  2.90s/it]"
     ]
    },
    {
     "name": "stdout",
     "output_type": "stream",
     "text": [
      "1.1215630024707934e-06\n"
     ]
    },
    {
     "name": "stderr",
     "output_type": "stream",
     "text": [
      "Calculate second derivative:   0%|          | 4/43735 [00:11<35:09:46,  2.89s/it]"
     ]
    },
    {
     "name": "stdout",
     "output_type": "stream",
     "text": [
      "2.1756272303719015e-06\n"
     ]
    },
    {
     "name": "stderr",
     "output_type": "stream",
     "text": [
      "Calculate second derivative:   0%|          | 5/43735 [00:14<35:48:05,  2.95s/it]"
     ]
    },
    {
     "name": "stdout",
     "output_type": "stream",
     "text": [
      "3.999210605343251e-06\n"
     ]
    },
    {
     "name": "stderr",
     "output_type": "stream",
     "text": [
      "Calculate second derivative:   0%|          | 6/43735 [00:17<35:55:32,  2.96s/it]"
     ]
    },
    {
     "name": "stdout",
     "output_type": "stream",
     "text": [
      "6.004350609600806e-06\n"
     ]
    },
    {
     "name": "stderr",
     "output_type": "stream",
     "text": [
      "Calculate second derivative:   0%|          | 7/43735 [00:20<35:46:29,  2.95s/it]"
     ]
    },
    {
     "name": "stdout",
     "output_type": "stream",
     "text": [
      "9.07131794747329e-06\n"
     ]
    },
    {
     "name": "stderr",
     "output_type": "stream",
     "text": [
      "Calculate second derivative:   0%|          | 8/43735 [00:23<35:40:22,  2.94s/it]"
     ]
    },
    {
     "name": "stdout",
     "output_type": "stream",
     "text": [
      "1.4934772536889795e-05\n"
     ]
    },
    {
     "name": "stderr",
     "output_type": "stream",
     "text": [
      "Calculate second derivative:   0%|          | 8/43735 [00:26<39:59:11,  3.29s/it]\n"
     ]
    },
    {
     "ename": "KeyboardInterrupt",
     "evalue": "",
     "output_type": "error",
     "traceback": [
      "\u001b[0;31m---------------------------------------------------------------------------\u001b[0m",
      "\u001b[0;31mKeyboardInterrupt\u001b[0m                         Traceback (most recent call last)",
      "Cell \u001b[0;32mIn[4], line 3\u001b[0m\n\u001b[1;32m      1\u001b[0m model1 \u001b[39m=\u001b[39m load_model(\u001b[39m55\u001b[39m, \u001b[39m\"\u001b[39m\u001b[39m./log/2023-07-11_11;36;18/model_size_55_initial.pt\u001b[39m\u001b[39m\"\u001b[39m)\n\u001b[1;32m      2\u001b[0m \u001b[39m#jacobian1 = get_jacobian(model1, exp)\u001b[39;00m\n\u001b[0;32m----> 3\u001b[0m get_hessian_avg(model1, exp)\n",
      "File \u001b[0;32m~/Documents/Projects/University/disseration/nn_analysis/src/nn_generalisation/landscape_analysis/curvature.py:16\u001b[0m, in \u001b[0;36mget_hessian_avg\u001b[0;34m(model, exp)\u001b[0m\n\u001b[1;32m     14\u001b[0m avg \u001b[39m=\u001b[39m \u001b[39m0\u001b[39m\n\u001b[1;32m     15\u001b[0m \u001b[39mfor\u001b[39;00m i \u001b[39min\u001b[39;00m trange(num_params, desc\u001b[39m=\u001b[39m\u001b[39m\"\u001b[39m\u001b[39mCalculate second derivative\u001b[39m\u001b[39m\"\u001b[39m):\n\u001b[0;32m---> 16\u001b[0m     curvature_i \u001b[39m=\u001b[39m cat_and_flatten(torch\u001b[39m.\u001b[39;49mautograd\u001b[39m.\u001b[39;49mgrad(jacobian[\u001b[39m7900\u001b[39;49m \u001b[39m+\u001b[39;49m i], params, retain_graph\u001b[39m=\u001b[39;49m\u001b[39mTrue\u001b[39;49;00m))\n\u001b[1;32m     17\u001b[0m     avg \u001b[39m+\u001b[39m\u001b[39m=\u001b[39m torch\u001b[39m.\u001b[39mmean(torch\u001b[39m.\u001b[39mabs(curvature_i))\u001b[39m.\u001b[39mitem()\n\u001b[1;32m     18\u001b[0m     \u001b[39mprint\u001b[39m(avg)\n",
      "File \u001b[0;32m/opt/miniconda3/envs/double_descent/lib/python3.10/site-packages/torch/autograd/__init__.py:303\u001b[0m, in \u001b[0;36mgrad\u001b[0;34m(outputs, inputs, grad_outputs, retain_graph, create_graph, only_inputs, allow_unused, is_grads_batched)\u001b[0m\n\u001b[1;32m    301\u001b[0m     \u001b[39mreturn\u001b[39;00m _vmap_internals\u001b[39m.\u001b[39m_vmap(vjp, \u001b[39m0\u001b[39m, \u001b[39m0\u001b[39m, allow_none_pass_through\u001b[39m=\u001b[39m\u001b[39mTrue\u001b[39;00m)(grad_outputs_)\n\u001b[1;32m    302\u001b[0m \u001b[39melse\u001b[39;00m:\n\u001b[0;32m--> 303\u001b[0m     \u001b[39mreturn\u001b[39;00m Variable\u001b[39m.\u001b[39;49m_execution_engine\u001b[39m.\u001b[39;49mrun_backward(  \u001b[39m# Calls into the C++ engine to run the backward pass\u001b[39;49;00m\n\u001b[1;32m    304\u001b[0m         t_outputs, grad_outputs_, retain_graph, create_graph, t_inputs,\n\u001b[1;32m    305\u001b[0m         allow_unused, accumulate_grad\u001b[39m=\u001b[39;49m\u001b[39mFalse\u001b[39;49;00m)\n",
      "\u001b[0;31mKeyboardInterrupt\u001b[0m: "
     ]
    }
   ],
   "source": [
    "model1 = load_model(55, \"./log/2023-07-11_11;36;18/model_size_55_initial.pt\")\n",
    "#jacobian1 = get_jacobian(model1, exp)\n",
    "get_hessian_avg(model1, exp)\n",
    "#flat_jacob1 = torch.cat([torch.flatten(i) for i in jacobian1])\n",
    "#jacob1 = flat_jacob1.numpy(force=True)\n",
    "#plot_grad(flat_jacob1.numpy(force=True), 1000)"
   ]
  },
  {
   "cell_type": "code",
   "execution_count": 29,
   "metadata": {},
   "outputs": [
    {
     "data": {
      "text/plain": [
       "0.004106908"
      ]
     },
     "execution_count": 29,
     "metadata": {},
     "output_type": "execute_result"
    }
   ],
   "source": [
    "np.mean(np.abs(jacob1))"
   ]
  }
 ],
 "metadata": {
  "kernelspec": {
   "display_name": "double_descent",
   "language": "python",
   "name": "python3"
  },
  "language_info": {
   "codemirror_mode": {
    "name": "ipython",
    "version": 3
   },
   "file_extension": ".py",
   "mimetype": "text/x-python",
   "name": "python",
   "nbconvert_exporter": "python",
   "pygments_lexer": "ipython3",
   "version": "3.10.11"
  },
  "orig_nbformat": 4
 },
 "nbformat": 4,
 "nbformat_minor": 2
}
